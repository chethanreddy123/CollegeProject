{
 "cells": [
  {
   "cell_type": "code",
   "execution_count": 7,
   "id": "57c1252c",
   "metadata": {},
   "outputs": [
    {
     "name": "stdout",
     "output_type": "stream",
     "text": [
      "2023-02-23 12:28:28.296224\n"
     ]
    }
   ],
   "source": [
    "from datetime import datetime\n",
    "\n",
    "# Function to convert string to datetime\n",
    "def convert(date_time):\n",
    "\tformat = '%b %d %Y %I:%M%p' # The format\n",
    "\tdatetime_str = datetime.datetime.strptime(date_time, format)\n",
    "\n",
    "\treturn datetime_str\n",
    "\n",
    "\n",
    "# Driver code\n",
    "date_time = datetime.now()\n",
    "print(date_time)\n"
   ]
  },
  {
   "cell_type": "code",
   "execution_count": 8,
   "id": "143601ce",
   "metadata": {},
   "outputs": [
    {
     "data": {
      "text/plain": [
       "datetime.datetime(2023, 2, 23, 12, 28, 28, 296224)"
      ]
     },
     "execution_count": 8,
     "metadata": {},
     "output_type": "execute_result"
    }
   ],
   "source": [
    "date_time"
   ]
  },
  {
   "cell_type": "code",
   "execution_count": 18,
   "id": "6c865372",
   "metadata": {},
   "outputs": [
    {
     "ename": "ValueError",
     "evalue": "time data '2023-02' does not match format '%y %m'",
     "output_type": "error",
     "traceback": [
      "\u001b[0;31m---------------------------------------------------------------------------\u001b[0m",
      "\u001b[0;31mValueError\u001b[0m                                Traceback (most recent call last)",
      "\u001b[0;32m/var/folders/c2/x_cgj8b10s38q85qqx_c88hr0000gn/T/ipykernel_50033/674373330.py\u001b[0m in \u001b[0;36m<module>\u001b[0;34m\u001b[0m\n\u001b[1;32m      1\u001b[0m \u001b[0mformat\u001b[0m \u001b[0;34m=\u001b[0m \u001b[0;34m\"%y %m\"\u001b[0m\u001b[0;34m\u001b[0m\u001b[0;34m\u001b[0m\u001b[0m\n\u001b[0;32m----> 2\u001b[0;31m \u001b[0mprint\u001b[0m\u001b[0;34m(\u001b[0m\u001b[0mdatetime\u001b[0m\u001b[0;34m.\u001b[0m\u001b[0mstrptime\u001b[0m\u001b[0;34m(\u001b[0m\u001b[0;34m\"2023-02\"\u001b[0m\u001b[0;34m,\u001b[0m \u001b[0mformat\u001b[0m\u001b[0;34m)\u001b[0m\u001b[0;34m)\u001b[0m\u001b[0;34m\u001b[0m\u001b[0;34m\u001b[0m\u001b[0m\n\u001b[0m",
      "\u001b[0;32m/Applications/anaconda3/lib/python3.9/_strptime.py\u001b[0m in \u001b[0;36m_strptime_datetime\u001b[0;34m(cls, data_string, format)\u001b[0m\n\u001b[1;32m    566\u001b[0m     \"\"\"Return a class cls instance based on the input string and the\n\u001b[1;32m    567\u001b[0m     format string.\"\"\"\n\u001b[0;32m--> 568\u001b[0;31m     \u001b[0mtt\u001b[0m\u001b[0;34m,\u001b[0m \u001b[0mfraction\u001b[0m\u001b[0;34m,\u001b[0m \u001b[0mgmtoff_fraction\u001b[0m \u001b[0;34m=\u001b[0m \u001b[0m_strptime\u001b[0m\u001b[0;34m(\u001b[0m\u001b[0mdata_string\u001b[0m\u001b[0;34m,\u001b[0m \u001b[0mformat\u001b[0m\u001b[0;34m)\u001b[0m\u001b[0;34m\u001b[0m\u001b[0;34m\u001b[0m\u001b[0m\n\u001b[0m\u001b[1;32m    569\u001b[0m     \u001b[0mtzname\u001b[0m\u001b[0;34m,\u001b[0m \u001b[0mgmtoff\u001b[0m \u001b[0;34m=\u001b[0m \u001b[0mtt\u001b[0m\u001b[0;34m[\u001b[0m\u001b[0;34m-\u001b[0m\u001b[0;36m2\u001b[0m\u001b[0;34m:\u001b[0m\u001b[0;34m]\u001b[0m\u001b[0;34m\u001b[0m\u001b[0;34m\u001b[0m\u001b[0m\n\u001b[1;32m    570\u001b[0m     \u001b[0margs\u001b[0m \u001b[0;34m=\u001b[0m \u001b[0mtt\u001b[0m\u001b[0;34m[\u001b[0m\u001b[0;34m:\u001b[0m\u001b[0;36m6\u001b[0m\u001b[0;34m]\u001b[0m \u001b[0;34m+\u001b[0m \u001b[0;34m(\u001b[0m\u001b[0mfraction\u001b[0m\u001b[0;34m,\u001b[0m\u001b[0;34m)\u001b[0m\u001b[0;34m\u001b[0m\u001b[0;34m\u001b[0m\u001b[0m\n",
      "\u001b[0;32m/Applications/anaconda3/lib/python3.9/_strptime.py\u001b[0m in \u001b[0;36m_strptime\u001b[0;34m(data_string, format)\u001b[0m\n\u001b[1;32m    347\u001b[0m     \u001b[0mfound\u001b[0m \u001b[0;34m=\u001b[0m \u001b[0mformat_regex\u001b[0m\u001b[0;34m.\u001b[0m\u001b[0mmatch\u001b[0m\u001b[0;34m(\u001b[0m\u001b[0mdata_string\u001b[0m\u001b[0;34m)\u001b[0m\u001b[0;34m\u001b[0m\u001b[0;34m\u001b[0m\u001b[0m\n\u001b[1;32m    348\u001b[0m     \u001b[0;32mif\u001b[0m \u001b[0;32mnot\u001b[0m \u001b[0mfound\u001b[0m\u001b[0;34m:\u001b[0m\u001b[0;34m\u001b[0m\u001b[0;34m\u001b[0m\u001b[0m\n\u001b[0;32m--> 349\u001b[0;31m         raise ValueError(\"time data %r does not match format %r\" %\n\u001b[0m\u001b[1;32m    350\u001b[0m                          (data_string, format))\n\u001b[1;32m    351\u001b[0m     \u001b[0;32mif\u001b[0m \u001b[0mlen\u001b[0m\u001b[0;34m(\u001b[0m\u001b[0mdata_string\u001b[0m\u001b[0;34m)\u001b[0m \u001b[0;34m!=\u001b[0m \u001b[0mfound\u001b[0m\u001b[0;34m.\u001b[0m\u001b[0mend\u001b[0m\u001b[0;34m(\u001b[0m\u001b[0;34m)\u001b[0m\u001b[0;34m:\u001b[0m\u001b[0;34m\u001b[0m\u001b[0;34m\u001b[0m\u001b[0m\n",
      "\u001b[0;31mValueError\u001b[0m: time data '2023-02' does not match format '%y %m'"
     ]
    }
   ],
   "source": [
    "format = \"%y %m\"\n",
    "print(datetime.strptime(\"2023-02\", format))"
   ]
  },
  {
   "cell_type": "code",
   "execution_count": 21,
   "id": "8d89ba25",
   "metadata": {},
   "outputs": [],
   "source": [
    "from pymongo.mongo_client import MongoClient\n",
    "\n",
    "Data = MongoClient(\"mongodb://localhost:27017/\")\n",
    "ConnectData = Data['Test']['Test']\n"
   ]
  },
  {
   "cell_type": "code",
   "execution_count": 23,
   "id": "2bb0a987",
   "metadata": {},
   "outputs": [
    {
     "data": {
      "text/plain": [
       "<pymongo.results.InsertOneResult at 0x7fd00a6094c0>"
      ]
     },
     "execution_count": 23,
     "metadata": {},
     "output_type": "execute_result"
    }
   ],
   "source": [
    "ConnectData.insert_one({\"Date\" : datetime.now()})"
   ]
  },
  {
   "cell_type": "code",
   "execution_count": 24,
   "id": "2159ad50",
   "metadata": {},
   "outputs": [],
   "source": [
    "from datetime import datetime"
   ]
  },
  {
   "cell_type": "code",
   "execution_count": 25,
   "id": "1889b687",
   "metadata": {},
   "outputs": [
    {
     "ename": "AttributeError",
     "evalue": "'method_descriptor' object has no attribute 'today'",
     "output_type": "error",
     "traceback": [
      "\u001b[0;31m---------------------------------------------------------------------------\u001b[0m",
      "\u001b[0;31mAttributeError\u001b[0m                            Traceback (most recent call last)",
      "\u001b[0;32m/var/folders/c2/x_cgj8b10s38q85qqx_c88hr0000gn/T/ipykernel_50033/1443770468.py\u001b[0m in \u001b[0;36m<module>\u001b[0;34m\u001b[0m\n\u001b[0;32m----> 1\u001b[0;31m \u001b[0mdatetime\u001b[0m\u001b[0;34m.\u001b[0m\u001b[0mdate\u001b[0m\u001b[0;34m.\u001b[0m\u001b[0mtoday\u001b[0m\u001b[0;34m(\u001b[0m\u001b[0;34m)\u001b[0m\u001b[0;34m\u001b[0m\u001b[0;34m\u001b[0m\u001b[0m\n\u001b[0m",
      "\u001b[0;31mAttributeError\u001b[0m: 'method_descriptor' object has no attribute 'today'"
     ]
    }
   ],
   "source": [
    "datetime.date.today()"
   ]
  },
  {
   "cell_type": "code",
   "execution_count": 27,
   "id": "108b23a8",
   "metadata": {},
   "outputs": [
    {
     "data": {
      "text/plain": [
       "datetime.date(2023, 2, 23)"
      ]
     },
     "execution_count": 27,
     "metadata": {},
     "output_type": "execute_result"
    }
   ],
   "source": [
    "import datetime\n",
    "\n",
    "datetime.date.today()"
   ]
  },
  {
   "cell_type": "code",
   "execution_count": null,
   "id": "2f140a54",
   "metadata": {},
   "outputs": [],
   "source": [
    "import datetime\n",
    "\n",
    "# Function to convert string to datetime\n",
    "def convert(date_time):\n",
    "\tformat = '%b %d %Y %I:%M%p' # The format\n",
    "\tdatetime_str = datetime.datetime.strptime(date_time, format)\n",
    "\n",
    "\treturn datetime_str\n",
    "\n",
    "\n",
    "# Driver code\n",
    "date_time = 'Dec 4 2018 10:07AM'\n",
    "print(convert(date_time))\n"
   ]
  },
  {
   "cell_type": "code",
   "execution_count": 31,
   "id": "86f1e691",
   "metadata": {},
   "outputs": [],
   "source": [
    "import datetime\n",
    "\n",
    "date_time_str = '2022-12-01'\n",
    "# strptime(input_string, input_format)\n",
    "date_time_obj = datetime.datetime.strptime(date_time_str, '%Y-%m-%d')"
   ]
  },
  {
   "cell_type": "code",
   "execution_count": 30,
   "id": "fa4ab66f",
   "metadata": {},
   "outputs": [
    {
     "data": {
      "text/plain": [
       "'2023-02-23'"
      ]
     },
     "execution_count": 30,
     "metadata": {},
     "output_type": "execute_result"
    }
   ],
   "source": [
    "str(datetime.date.today())"
   ]
  },
  {
   "cell_type": "code",
   "execution_count": 33,
   "id": "539555aa",
   "metadata": {},
   "outputs": [
    {
     "name": "stdout",
     "output_type": "stream",
     "text": [
      "2023-02-23 00:00:00\n"
     ]
    }
   ],
   "source": [
    "t = '2023-02-23'\n",
    "date_time_obj = datetime.datetime.strptime(t, '%Y-%m-%d')\n",
    "\n",
    "print(date_time_obj)"
   ]
  },
  {
   "cell_type": "code",
   "execution_count": 1,
   "id": "52dd4104",
   "metadata": {},
   "outputs": [
    {
     "data": {
      "text/plain": [
       "{'_id': ObjectId('63f746b116ba5402e06c1d1c'),\n",
       " 'Patient_Id': '23ST547',\n",
       " 'Patient_Name': 'Ron Rin',\n",
       " 'Patient_Age': '45',\n",
       " 'Patient_Gender': 1,\n",
       " 'Patient_Height': '145',\n",
       " 'Patient_Weight': '56',\n",
       " 'Patient_Contact_No': '9893456743',\n",
       " 'Employed': 1,\n",
       " 'Occupation': 'Worked in Labor',\n",
       " 'Address': '20-3-5R2, Siva Jyothi Nagar, Tirupati',\n",
       " 'DateOfAsses': ['2023-02-23'],\n",
       " 'Complaint': ['Sever Head pain'],\n",
       " 'Injury': ['Yah head injury'],\n",
       " 'DateOfInjuryforSurgery': ['2023-02-20'],\n",
       " 'DecriptionOfSurgery': ['Just, were on the bike in long'],\n",
       " 'RecievedTherapy': [1],\n",
       " 'DateofTherapy': ['2023-02-22'],\n",
       " 'CurrentCondition': [1],\n",
       " 'currentStatusSymptoms': [0],\n",
       " 'AtBestPain': [2],\n",
       " 'AtWorstPain': [9],\n",
       " 'Surgical_History': ['Stomach surgery'],\n",
       " 'Referal_Doctor': ['Raja sanker'],\n",
       " 'MakesConditionBetter': [['Bending',\n",
       "   'Changing Positions',\n",
       "   'Medication',\n",
       "   'Movement']],\n",
       " 'MakesConditionBetterWorse': [['Standing',\n",
       "   'Bending',\n",
       "   'Worse In AM',\n",
       "   'Stairs']],\n",
       " 'MedicalIntervention': [['X-Ray MRI', 'Injections']],\n",
       " 'GoalsAfterTreat': ['Good with my Body'],\n",
       " 'MedicalInformation': [['Arthritis',\n",
       "   'History of Drug Abuse',\n",
       "   'Fever/Chills/Sweats']],\n",
       " 'PrevSurger': [\"Nope That's it\"],\n",
       " 'OtherInfo': ['None of them'],\n",
       " 'Medications': [\"Nope it's fine\"],\n",
       " 'Allergies': ['Year, there is'],\n",
       " 'DateOfInjury': ['']}"
      ]
     },
     "execution_count": 1,
     "metadata": {},
     "output_type": "execute_result"
    }
   ],
   "source": [
    "from pymongo.mongo_client import MongoClient\n",
    "\n",
    "Data = MongoClient(\"mongodb://localhost:27017/\")\n",
    "ConnectData = Data['Test']['Test']\n",
    "\n",
    "Results = ConnectData.find({\"Patient_Id\" : \"23ST547\"})\n",
    "\n",
    "myData = list(Results)[0]\n",
    "\n",
    "myData"
   ]
  },
  {
   "cell_type": "code",
   "execution_count": 2,
   "id": "c326441b",
   "metadata": {},
   "outputs": [
    {
     "name": "stderr",
     "output_type": "stream",
     "text": [
      "2023-02-24 07:26:59.560 \n",
      "  \u001b[33m\u001b[1mWarning:\u001b[0m to view this Streamlit app on a browser, run it with the following\n",
      "  command:\n",
      "\n",
      "    streamlit run /Applications/anaconda3/lib/python3.9/site-packages/ipykernel_launcher.py [ARGUMENTS]\n"
     ]
    },
    {
     "data": {
      "text/plain": [
       "DeltaGenerator(_root_container=0, _provided_cursor=None, _parent=None, _block_type=None, _form_data=None)"
      ]
     },
     "execution_count": 2,
     "metadata": {},
     "output_type": "execute_result"
    }
   ],
   "source": [
    "import streamlit as st\n",
    "\n",
    "st.title(\"Main\")"
   ]
  },
  {
   "cell_type": "code",
   "execution_count": 3,
   "id": "969a4e05",
   "metadata": {},
   "outputs": [
    {
     "ename": "SyntaxError",
     "evalue": "invalid syntax (472251395.py, line 1)",
     "output_type": "error",
     "traceback": [
      "\u001b[0;36m  File \u001b[0;32m\"/var/folders/c2/x_cgj8b10s38q85qqx_c88hr0000gn/T/ipykernel_51797/472251395.py\"\u001b[0;36m, line \u001b[0;32m1\u001b[0m\n\u001b[0;31m    streamlit run /Applications/anaconda3/lib/python3.9/site-packages/ipykernel_launcher.py\u001b[0m\n\u001b[0m              ^\u001b[0m\n\u001b[0;31mSyntaxError\u001b[0m\u001b[0;31m:\u001b[0m invalid syntax\n"
     ]
    }
   ],
   "source": []
  },
  {
   "cell_type": "code",
   "execution_count": null,
   "id": "c5a94107",
   "metadata": {},
   "outputs": [],
   "source": []
  }
 ],
 "metadata": {
  "kernelspec": {
   "display_name": "Python 3 (ipykernel)",
   "language": "python",
   "name": "python3"
  },
  "language_info": {
   "codemirror_mode": {
    "name": "ipython",
    "version": 3
   },
   "file_extension": ".py",
   "mimetype": "text/x-python",
   "name": "python",
   "nbconvert_exporter": "python",
   "pygments_lexer": "ipython3",
   "version": "3.9.13"
  }
 },
 "nbformat": 4,
 "nbformat_minor": 5
}
